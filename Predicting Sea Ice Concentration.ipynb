{
 "cells": [
  {
   "cell_type": "markdown",
   "metadata": {},
   "source": [
    "### Predicting Sea Ice Concentration"
   ]
  },
  {
   "cell_type": "markdown",
   "metadata": {},
   "source": [
    "## Initialisation"
   ]
  },
  {
   "cell_type": "code",
   "execution_count": null,
   "metadata": {},
   "outputs": [],
   "source": [
    "import netCDF4\n",
    "import numpy\n",
    "import pandas\n",
    "import math\n",
    "import matplotlib\n",
    "import matplotlib.pyplot\n",
    "import matplotlib.animation\n",
    "import scipy.special\n",
    "import statsmodels.api\n",
    "import statsmodels.graphics.tsaplots\n",
    "import re\n",
    "import itertools\n",
    "import time as timePackage\n",
    "matplotlib.use('nbagg')"
   ]
  },
  {
   "cell_type": "markdown",
   "metadata": {},
   "source": [
    "## Data Loading"
   ]
  },
  {
   "cell_type": "markdown",
   "metadata": {},
   "source": [
    "### Sea Ice Concentration"
   ]
  },
  {
   "cell_type": "code",
   "execution_count": null,
   "metadata": {},
   "outputs": [],
   "source": [
    "netCDF_SeaIceConcentration = netCDF4.Dataset(\"Data//sic_weekly_erai_1979_2017.nc\", \"r\")"
   ]
  },
  {
   "cell_type": "code",
   "execution_count": null,
   "metadata": {},
   "outputs": [],
   "source": [
    "print(netCDF_SeaIceConcentration.dimensions.keys())\n",
    "print(netCDF_SeaIceConcentration.variables.keys())\n",
    "for key in netCDF_SeaIceConcentration.dimensions.keys():\n",
    "    print()\n",
    "    print(key)\n",
    "    print(netCDF_SeaIceConcentration.dimensions[key])\n",
    "for key in netCDF_SeaIceConcentration.variables.keys():\n",
    "    print()\n",
    "    print(key)\n",
    "    print(netCDF_SeaIceConcentration.variables[key])"
   ]
  },
  {
   "cell_type": "code",
   "execution_count": null,
   "metadata": {},
   "outputs": [],
   "source": [
    "numpy_SeaIceConcentration = netCDF_SeaIceConcentration.variables[\"sic\"][:]"
   ]
  },
  {
   "cell_type": "code",
   "execution_count": null,
   "metadata": {},
   "outputs": [],
   "source": [
    "numpy_SeaIceConcentration = numpy_SeaIceConcentration.reshape(-1, numpy_SeaIceConcentration.shape[2], numpy_SeaIceConcentration.shape[3])"
   ]
  },
  {
   "cell_type": "code",
   "execution_count": null,
   "metadata": {},
   "outputs": [],
   "source": [
    "numpy_SeaIceConcentration.shape"
   ]
  },
  {
   "cell_type": "code",
   "execution_count": null,
   "metadata": {},
   "outputs": [],
   "source": [
    "matplotlib.pyplot.figure()\n",
    "matplotlib.pyplot.imshow(numpy_SeaIceConcentration[1,:,:])\n",
    "matplotlib.pyplot.colorbar(fraction=0.05)\n",
    "matplotlib.pyplot.show()"
   ]
  },
  {
   "cell_type": "code",
   "execution_count": null,
   "metadata": {},
   "outputs": [],
   "source": [
    "numpy_SeaIceConcentration_BarentsSea = numpy_SeaIceConcentration[:38 * 48 + 5, 12:36, 264:320]"
   ]
  },
  {
   "cell_type": "code",
   "execution_count": null,
   "metadata": {},
   "outputs": [],
   "source": [
    "numpy_SeaIceConcentration_BarentsSea.shape"
   ]
  },
  {
   "cell_type": "code",
   "execution_count": null,
   "metadata": {
    "scrolled": true
   },
   "outputs": [],
   "source": [
    "fig = matplotlib.pyplot.figure()\n",
    "ax = matplotlib.pyplot.axes()\n",
    "time_text = ax.text(0, 1,'',horizontalalignment='left',verticalalignment='top')\n",
    "im = matplotlib.pyplot.imshow(numpy_SeaIceConcentration_BarentsSea[0,:,:])\n",
    "def updatefig(i):\n",
    "    im.set_array(numpy_SeaIceConcentration_BarentsSea[i,:,:])\n",
    "    year = 1979 + numpy.floor(i / netCDF_SeaIceConcentration.shape[1])\n",
    "    month = 1 + i % netCDF_SeaIceConcentration.shape[1]\n",
    "    time_text.set_text('Frame: %.1d | Year: %.1d | Week: %.1d' % (i, year, month))\n",
    "frames = numpy_SeaIceConcentration_BarentsSea.shape[0]\n",
    "ani = matplotlib.animation.FuncAnimation(fig, updatefig, frames=frames, interval=100, blit=True) \n",
    "matplotlib.pyplot.show()"
   ]
  },
  {
   "cell_type": "markdown",
   "metadata": {},
   "source": [
    "### Temperature at 2 meters altitude"
   ]
  },
  {
   "cell_type": "code",
   "execution_count": null,
   "metadata": {},
   "outputs": [],
   "source": [
    "netCDF_Temperature = netCDF4.Dataset(\"Data//t2m_weekly_erai_1979_2017.nc\", \"r\")"
   ]
  },
  {
   "cell_type": "code",
   "execution_count": null,
   "metadata": {},
   "outputs": [],
   "source": [
    "print(netCDF_Temperature.dimensions.keys())\n",
    "print(netCDF_Temperature.variables.keys())\n",
    "for key in netCDF_Temperature.dimensions.keys():\n",
    "    print()\n",
    "    print(key)\n",
    "    print(netCDF_Temperature.dimensions[key])\n",
    "for key in netCDF_Temperature.variables.keys():\n",
    "    print()\n",
    "    print(key)\n",
    "    print(netCDF_Temperature.variables[key])"
   ]
  },
  {
   "cell_type": "code",
   "execution_count": null,
   "metadata": {},
   "outputs": [],
   "source": [
    "numpy_Temperature = netCDF_Temperature.variables[\"t2m\"][:]"
   ]
  },
  {
   "cell_type": "code",
   "execution_count": null,
   "metadata": {},
   "outputs": [],
   "source": [
    "numpy_Temperature = numpy_Temperature.reshape(-1, numpy_Temperature.shape[2], numpy_Temperature.shape[3])"
   ]
  },
  {
   "cell_type": "code",
   "execution_count": null,
   "metadata": {},
   "outputs": [],
   "source": [
    "numpy_Temperature.shape"
   ]
  },
  {
   "cell_type": "code",
   "execution_count": null,
   "metadata": {},
   "outputs": [],
   "source": [
    "matplotlib.pyplot.figure()\n",
    "matplotlib.pyplot.imshow(numpy_Temperature[1,:,:])\n",
    "matplotlib.pyplot.colorbar(fraction=0.05)\n",
    "matplotlib.pyplot.show()"
   ]
  },
  {
   "cell_type": "code",
   "execution_count": null,
   "metadata": {},
   "outputs": [],
   "source": [
    "numpy_Temperature_BarentsSea = numpy_Temperature[:38 * 48 + 5, 12:36, 264:320]"
   ]
  },
  {
   "cell_type": "code",
   "execution_count": null,
   "metadata": {},
   "outputs": [],
   "source": [
    "numpy_Temperature_BarentsSea.shape"
   ]
  },
  {
   "cell_type": "code",
   "execution_count": null,
   "metadata": {
    "scrolled": true
   },
   "outputs": [],
   "source": [
    "fig = matplotlib.pyplot.figure()\n",
    "ax = matplotlib.pyplot.axes()\n",
    "time_text = ax.text(0, 1,'',horizontalalignment='left',verticalalignment='top')\n",
    "im = matplotlib.pyplot.imshow(numpy_Temperature_BarentsSea[0,:,:])\n",
    "def updatefig(i):\n",
    "    im.set_array(numpy_Temperature_BarentsSea[i,:,:])\n",
    "    year = 1979 + numpy.floor(i / numpy_Temperature_BarentsSea.shape[1])\n",
    "    month = 1 + i % numpy_Temperature_BarentsSea.shape[1]\n",
    "    time_text.set_text('Frame: %.1d | Year: %.1d | Week: %.1d' % (i, year, month))\n",
    "frames = numpy_Temperature_BarentsSea.shape[0]\n",
    "ani = matplotlib.animation.FuncAnimation(fig, updatefig, frames=frames, interval=100, blit=True) \n",
    "matplotlib.pyplot.show()"
   ]
  },
  {
   "cell_type": "markdown",
   "metadata": {},
   "source": [
    "### Ocean Heat Content"
   ]
  },
  {
   "cell_type": "code",
   "execution_count": null,
   "metadata": {},
   "outputs": [],
   "source": [
    "netCDF_OceanHeatContent = netCDF4.Dataset(\"Data//ohc_monthly_oras2erai_1978_2017.nc\", \"r\")"
   ]
  },
  {
   "cell_type": "code",
   "execution_count": null,
   "metadata": {},
   "outputs": [],
   "source": [
    "print(netCDF_OceanHeatContent.dimensions.keys())\n",
    "print(netCDF_OceanHeatContent.variables.keys())\n",
    "for key in netCDF_OceanHeatContent.dimensions.keys():\n",
    "    print()\n",
    "    print(key)\n",
    "    print(netCDF_OceanHeatContent.dimensions[key])\n",
    "for key in netCDF_OceanHeatContent.variables.keys():\n",
    "    print()\n",
    "    print(key)\n",
    "    print(netCDF_OceanHeatContent.variables[key])"
   ]
  },
  {
   "cell_type": "code",
   "execution_count": null,
   "metadata": {},
   "outputs": [],
   "source": [
    "numpy_OceanHeatContent = netCDF_OceanHeatContent.variables[\"OHC\"][1:]"
   ]
  },
  {
   "cell_type": "code",
   "execution_count": null,
   "metadata": {},
   "outputs": [],
   "source": [
    "numpy_OceanHeatContent = numpy_OceanHeatContent.reshape(-1, numpy_OceanHeatContent.shape[2], numpy_OceanHeatContent.shape[3])"
   ]
  },
  {
   "cell_type": "code",
   "execution_count": null,
   "metadata": {},
   "outputs": [],
   "source": [
    "numpy_OceanHeatContent = numpy.repeat(numpy_OceanHeatContent, [4], axis=0)"
   ]
  },
  {
   "cell_type": "code",
   "execution_count": null,
   "metadata": {},
   "outputs": [],
   "source": [
    "numpy_OceanHeatContent.shape"
   ]
  },
  {
   "cell_type": "code",
   "execution_count": null,
   "metadata": {},
   "outputs": [],
   "source": [
    "matplotlib.pyplot.figure()\n",
    "matplotlib.pyplot.imshow(numpy_OceanHeatContent[0,:,:])\n",
    "matplotlib.pyplot.colorbar(fraction=0.05)\n",
    "matplotlib.pyplot.show()"
   ]
  },
  {
   "cell_type": "code",
   "execution_count": null,
   "metadata": {},
   "outputs": [],
   "source": [
    "numpy_OceanHeatContent_BarentsSea = numpy_OceanHeatContent[:38 * 48 + 5, 12:36, 264:320]"
   ]
  },
  {
   "cell_type": "code",
   "execution_count": null,
   "metadata": {},
   "outputs": [],
   "source": [
    "numpy_OceanHeatContent_BarentsSea.shape"
   ]
  },
  {
   "cell_type": "code",
   "execution_count": null,
   "metadata": {
    "scrolled": true
   },
   "outputs": [],
   "source": [
    "fig = matplotlib.pyplot.figure()\n",
    "ax = matplotlib.pyplot.axes()\n",
    "time_text = ax.text(0, 1,'',horizontalalignment='left',verticalalignment='top')\n",
    "im = matplotlib.pyplot.imshow(numpy_OceanHeatContent_BarentsSea[0,:,:])\n",
    "def updatefig(i):\n",
    "    im.set_array(numpy_OceanHeatContent_BarentsSea[i,:,:])\n",
    "    year = 1979 + numpy.floor(i / numpy_OceanHeatContent_BarentsSea.shape[1])\n",
    "    month = 1 + i % numpy_OceanHeatContent_BarentsSea.shape[1]\n",
    "    time_text.set_text('Frame: %.1d | Year: %.1d | Week: %.1d' % (i, year, month))\n",
    "frames = numpy_OceanHeatContent_BarentsSea.shape[0]\n",
    "ani = matplotlib.animation.FuncAnimation(fig, updatefig, frames=frames, interval=100, blit=True) \n",
    "matplotlib.pyplot.show()"
   ]
  },
  {
   "cell_type": "markdown",
   "metadata": {},
   "source": [
    "### Area size"
   ]
  },
  {
   "cell_type": "code",
   "execution_count": null,
   "metadata": {},
   "outputs": [],
   "source": [
    "numpy_Latitudes = netCDF_SeaIceConcentration.variables['latitude'][:]"
   ]
  },
  {
   "cell_type": "code",
   "execution_count": null,
   "metadata": {},
   "outputs": [],
   "source": [
    "numpy_Latitudes.shape"
   ]
  },
  {
   "cell_type": "code",
   "execution_count": null,
   "metadata": {},
   "outputs": [],
   "source": [
    "numpy_Longitudes = netCDF_SeaIceConcentration.variables['longitude'][:]"
   ]
  },
  {
   "cell_type": "code",
   "execution_count": null,
   "metadata": {},
   "outputs": [],
   "source": [
    "numpy_Longitudes.shape"
   ]
  },
  {
   "cell_type": "code",
   "execution_count": null,
   "metadata": {},
   "outputs": [],
   "source": [
    "def getArea(latitudes, longitudes):\n",
    "    nLatitudes = len(latitudes)\n",
    "    nLongitudes = len(longitudes)\n",
    "    radius =  6371009\n",
    "    dx = 2 * numpy.pi * radius / nLongitudes * numpy.cos(2 * numpy.pi * latitudes / 360)\n",
    "    dy = numpy.pi * radius / nLongitudes\n",
    "    area = numpy.zeros((nLatitudes, nLongitudes), dtype=float)\n",
    "    for i in range(nLatitudes):\n",
    "        area[i,:] = dx[i] * dy / 1E+6\n",
    "    return area"
   ]
  },
  {
   "cell_type": "code",
   "execution_count": null,
   "metadata": {},
   "outputs": [],
   "source": [
    "numpy_Area = getArea(numpy_Latitudes, numpy_Longitudes)"
   ]
  },
  {
   "cell_type": "code",
   "execution_count": null,
   "metadata": {},
   "outputs": [],
   "source": [
    "numpy_Area.shape"
   ]
  },
  {
   "cell_type": "code",
   "execution_count": null,
   "metadata": {},
   "outputs": [],
   "source": [
    "numpy_Area_BarentsSea = numpy_Area[12:36, 264:320]"
   ]
  },
  {
   "cell_type": "code",
   "execution_count": null,
   "metadata": {},
   "outputs": [],
   "source": [
    "numpy_Area_BarentsSea.max()"
   ]
  },
  {
   "cell_type": "markdown",
   "metadata": {},
   "source": [
    "### Masks"
   ]
  },
  {
   "cell_type": "code",
   "execution_count": null,
   "metadata": {},
   "outputs": [],
   "source": [
    "numpy_SeaIceConcentration_LandMask_BarentsSea = numpy.isclose(numpy_SeaIceConcentration_BarentsSea, -1).all(axis=0)"
   ]
  },
  {
   "cell_type": "code",
   "execution_count": null,
   "metadata": {},
   "outputs": [],
   "source": [
    "numpy.count_nonzero(numpy_SeaIceConcentration_LandMask_BarentsSea)"
   ]
  },
  {
   "cell_type": "code",
   "execution_count": null,
   "metadata": {},
   "outputs": [],
   "source": [
    "numpy_SeaIceConcentration_VarianceMask_BarentsSea = numpy_SeaIceConcentration_BarentsSea.var(axis=0) == 0"
   ]
  },
  {
   "cell_type": "code",
   "execution_count": null,
   "metadata": {},
   "outputs": [],
   "source": [
    "numpy.count_nonzero(numpy_SeaIceConcentration_VarianceMask_BarentsSea & ~numpy_SeaIceConcentration_LandMask_BarentsSea)"
   ]
  },
  {
   "cell_type": "code",
   "execution_count": null,
   "metadata": {},
   "outputs": [],
   "source": [
    "numpy_SeaIceConcentration_Mask_BarentsSea = numpy.any([numpy_SeaIceConcentration_LandMask_BarentsSea, numpy_SeaIceConcentration_VarianceMask_BarentsSea], axis=0)"
   ]
  },
  {
   "cell_type": "code",
   "execution_count": null,
   "metadata": {},
   "outputs": [],
   "source": [
    "numpy_OceanHeatContent_LandMask_BarentsSea = numpy.isclose(numpy_OceanHeatContent_BarentsSea, 0).all(axis=0)"
   ]
  },
  {
   "cell_type": "code",
   "execution_count": null,
   "metadata": {},
   "outputs": [],
   "source": [
    "numpy.count_nonzero(numpy_OceanHeatContent_LandMask_BarentsSea)"
   ]
  },
  {
   "cell_type": "code",
   "execution_count": null,
   "metadata": {},
   "outputs": [],
   "source": [
    "numpy_OceanHeatContent_VarianceMask_BarentsSea = numpy_OceanHeatContent_BarentsSea.var(axis=0) == 0"
   ]
  },
  {
   "cell_type": "code",
   "execution_count": null,
   "metadata": {},
   "outputs": [],
   "source": [
    "numpy.count_nonzero(numpy_OceanHeatContent_VarianceMask_BarentsSea & ~numpy_OceanHeatContent_LandMask_BarentsSea)"
   ]
  },
  {
   "cell_type": "code",
   "execution_count": null,
   "metadata": {},
   "outputs": [],
   "source": [
    "numpy_OceanHeatContent_Mask_BarentsSea = numpy.any([numpy_OceanHeatContent_LandMask_BarentsSea, numpy_OceanHeatContent_VarianceMask_BarentsSea], axis=0)"
   ]
  },
  {
   "cell_type": "code",
   "execution_count": null,
   "metadata": {
    "scrolled": true
   },
   "outputs": [],
   "source": [
    "numpy.count_nonzero(numpy_SeaIceConcentration_Mask_BarentsSea)"
   ]
  },
  {
   "cell_type": "code",
   "execution_count": null,
   "metadata": {},
   "outputs": [],
   "source": [
    "numpy.count_nonzero(numpy_OceanHeatContent_Mask_BarentsSea)"
   ]
  },
  {
   "cell_type": "code",
   "execution_count": null,
   "metadata": {},
   "outputs": [],
   "source": [
    "numpy.all(numpy_SeaIceConcentration_Mask_BarentsSea == numpy_OceanHeatContent_Mask_BarentsSea)"
   ]
  },
  {
   "cell_type": "code",
   "execution_count": null,
   "metadata": {},
   "outputs": [],
   "source": [
    "numpy_SeaIceConcentration_Mask_BarentsSea.shape"
   ]
  },
  {
   "cell_type": "code",
   "execution_count": null,
   "metadata": {},
   "outputs": [],
   "source": [
    "numpy_OceanHeatContent_Mask_BarentsSea.shape"
   ]
  },
  {
   "cell_type": "markdown",
   "metadata": {},
   "source": [
    "## Conversion to Pandas DataFrame"
   ]
  },
  {
   "cell_type": "code",
   "execution_count": null,
   "metadata": {},
   "outputs": [],
   "source": [
    "def shiftSpatialDataMatrix(matrix):\n",
    "    w, h = matrix.shape\n",
    "    result = numpy.tile(-1, (3, 3, w, h))\n",
    "    for i in range(3):\n",
    "        for j in range(3):\n",
    "            result[i, j, max(-(i - 1), 0):min(w - (i - 1), w), max(-(j - 1), 0):min(h - (j - 1), h)] = matrix[max((i - 1), 0):min(w + (i - 1), w), max((j - 1), 0):min(h + (j - 1), h)]\n",
    "    return result"
   ]
  },
  {
   "cell_type": "code",
   "execution_count": null,
   "metadata": {},
   "outputs": [],
   "source": [
    "def spatialStructureDataFrame(shape):\n",
    "    dataPointsLength = shape[0] * shape[1]\n",
    "    dataPoints = numpy.arange(dataPointsLength)\n",
    "    dataMatrix = dataPoints.reshape(shape)\n",
    "    shiftedSpatialDataMatrix = shiftSpatialDataMatrix(dataMatrix)\n",
    "    data = shiftedSpatialDataMatrix.reshape(9, dataPointsLength)\n",
    "    dataFrame = pandas.DataFrame(data.T, columns=[\"NW\", \"N\", \"NE\", \"W\", \"ID\", \"E\", \"SW\", \"S\", \"SE\"])\n",
    "    return dataFrame"
   ]
  },
  {
   "cell_type": "code",
   "execution_count": null,
   "metadata": {},
   "outputs": [],
   "source": [
    "pandas_SpatialStructure_BarentsSea = spatialStructureDataFrame(numpy_SeaIceConcentration_Mask_BarentsSea.shape)\n",
    "pandas_SpatialStructure_BarentsSea.index.set_names([\"position\"], inplace=True)\n",
    "pandas_SpatialStructure_BarentsSea.to_csv(\"Data\\\\SpatialStructure_BarentsSea.csv\")\n",
    "pandas_SpatialStructure_BarentsSea.head(4)"
   ]
  },
  {
   "cell_type": "code",
   "execution_count": null,
   "metadata": {},
   "outputs": [],
   "source": [
    "numpy_Area_BarentsSea_Flattened = numpy_Area_BarentsSea.flatten()\n",
    "pandas_Area_BarentsSea = pandas.DataFrame(numpy_Area_BarentsSea_Flattened.T, columns=[\"area\"])\n",
    "pandas_Area_BarentsSea.index.set_names([\"position\"], inplace=True)\n",
    "pandas_Area_BarentsSea.to_csv(\"Data\\\\Area_BarentsSea.csv\")\n",
    "pandas_Area_BarentsSea.head(4)"
   ]
  },
  {
   "cell_type": "code",
   "execution_count": null,
   "metadata": {},
   "outputs": [],
   "source": [
    "numpy_SeaIceConcentration_Mask_BarentsSea_Flattened = numpy_SeaIceConcentration_Mask_BarentsSea.flatten()\n",
    "pandas_SeaIceConcentration_Mask_BarentsSea = pandas.DataFrame(numpy_SeaIceConcentration_Mask_BarentsSea_Flattened.T, columns=[\"mask\"])\n",
    "pandas_SeaIceConcentration_Mask_BarentsSea.index.set_names([\"position\"], inplace=True)\n",
    "pandas_SeaIceConcentration_Mask_BarentsSea.to_csv(\"Data\\\\SeaIceConcentration_Mask_BarentsSea.csv\")\n",
    "pandas_SeaIceConcentration_Mask_BarentsSea.head(4)"
   ]
  },
  {
   "cell_type": "code",
   "execution_count": null,
   "metadata": {},
   "outputs": [],
   "source": [
    "numpy_OceanHeatContent_Mask_BarentsSea_Flattened = numpy_OceanHeatContent_Mask_BarentsSea.flatten()\n",
    "pandas_OceanHeatContent_Mask_BarentsSea = pandas.DataFrame(numpy_OceanHeatContent_Mask_BarentsSea_Flattened.T, columns=[\"mask\"])\n",
    "pandas_OceanHeatContent_Mask_BarentsSea.index.set_names([\"position\"], inplace=True)\n",
    "pandas_OceanHeatContent_Mask_BarentsSea.to_csv(\"Data\\\\OceanHeatContent_Mask_BarentsSea.csv\")\n",
    "pandas_OceanHeatContent_Mask_BarentsSea.head(4)"
   ]
  },
  {
   "cell_type": "code",
   "execution_count": null,
   "metadata": {},
   "outputs": [],
   "source": [
    "def pivotDataFrame(dataFrame, column):\n",
    "    dataFrameCopy = dataFrame.copy()\n",
    "    dataFrameCopy[\"position\"] = dataFrameCopy.index\n",
    "    dataFrameCopy = dataFrameCopy.melt(id_vars=[\"position\"], var_name=\"time\", value_name=column)\n",
    "    dataFrameCopy.set_index([\"position\", \"time\"], inplace=True)\n",
    "    dataFrameCopy.sort_index(inplace=True)\n",
    "    return dataFrameCopy"
   ]
  },
  {
   "cell_type": "code",
   "execution_count": null,
   "metadata": {},
   "outputs": [],
   "source": [
    "numpy_SeaIceConcentration_BarentsSea_Flattened = numpy_SeaIceConcentration_BarentsSea.reshape(numpy_SeaIceConcentration_BarentsSea.shape[0], -1)\n",
    "pandas_SeaIceConcentration_BarentsSea = pandas.DataFrame(numpy_SeaIceConcentration_BarentsSea_Flattened.T, columns=numpy.arange(numpy_SeaIceConcentration_BarentsSea.shape[0]))\n",
    "pandas_SeaIceConcentration_BarentsSea.to_csv(\"Data\\\\SeaIceConcentration_BarentsSea.csv\")\n",
    "pandas_SeaIceConcentration_BarentsSea.head(4)"
   ]
  },
  {
   "cell_type": "code",
   "execution_count": null,
   "metadata": {},
   "outputs": [],
   "source": [
    "pandas_SeaIceConcentration_Masked_BarentsSea = pandas_SeaIceConcentration_BarentsSea[~pandas_SeaIceConcentration_Mask_BarentsSea[\"mask\"]]\n",
    "pandas_SeaIceConcentration_Masked_BarentsSea.head(4)"
   ]
  },
  {
   "cell_type": "code",
   "execution_count": null,
   "metadata": {},
   "outputs": [],
   "source": [
    "pandas_SeaIceConcentration_Pivot_BarentsSea = pivotDataFrame(pandas_SeaIceConcentration_Masked_BarentsSea, \"sic\")\n",
    "pandas_SeaIceConcentration_Pivot_BarentsSea.head(4)"
   ]
  },
  {
   "cell_type": "code",
   "execution_count": null,
   "metadata": {},
   "outputs": [],
   "source": [
    "numpy_Temperature_BarentsSea_Flattened = numpy_Temperature_BarentsSea.reshape(numpy_Temperature_BarentsSea.shape[0], -1)\n",
    "pandas_Temperature_BarentsSea = pandas.DataFrame(numpy_Temperature_BarentsSea_Flattened.T, columns=numpy.arange(numpy_Temperature_BarentsSea.shape[0]))\n",
    "pandas_Temperature_BarentsSea.to_csv(\"Data\\\\Temperature_BarentsSea.csv\")\n",
    "pandas_Temperature_BarentsSea.head(4)"
   ]
  },
  {
   "cell_type": "code",
   "execution_count": null,
   "metadata": {},
   "outputs": [],
   "source": [
    "pandas_Temperature_Masked_BarentsSea = pandas_Temperature_BarentsSea[~pandas_SeaIceConcentration_Mask_BarentsSea[\"mask\"]]\n",
    "pandas_Temperature_Masked_BarentsSea.head(4)"
   ]
  },
  {
   "cell_type": "code",
   "execution_count": null,
   "metadata": {},
   "outputs": [],
   "source": [
    "pandas_Temperature_Pivot_BarentsSea = pivotDataFrame(pandas_Temperature_Masked_BarentsSea, \"temp\")\n",
    "pandas_Temperature_Pivot_BarentsSea.head(4)"
   ]
  },
  {
   "cell_type": "code",
   "execution_count": null,
   "metadata": {},
   "outputs": [],
   "source": [
    "numpy_OceanHeatContent_BarentsSea_Flattened = numpy_OceanHeatContent_BarentsSea.reshape(numpy_OceanHeatContent_BarentsSea.shape[0], -1)\n",
    "pandas_OceanHeatContent_BarentsSea = pandas.DataFrame(numpy_OceanHeatContent_BarentsSea_Flattened.T, columns=numpy.arange(numpy_OceanHeatContent_BarentsSea.shape[0]))\n",
    "pandas_OceanHeatContent_BarentsSea.to_csv(\"Data\\\\OceanHeatContent_BarentsSea.csv\")\n",
    "pandas_OceanHeatContent_BarentsSea.head(4)"
   ]
  },
  {
   "cell_type": "code",
   "execution_count": null,
   "metadata": {},
   "outputs": [],
   "source": [
    "pandas_OceanHeatContent_Masked_BarentsSea = pandas_OceanHeatContent_BarentsSea[~pandas_OceanHeatContent_Mask_BarentsSea[\"mask\"]]\n",
    "pandas_OceanHeatContent_Masked_BarentsSea.head(4)"
   ]
  },
  {
   "cell_type": "code",
   "execution_count": null,
   "metadata": {},
   "outputs": [],
   "source": [
    "pandas_OceanHeatContent_Pivot_BarentsSea = pivotDataFrame(pandas_OceanHeatContent_Masked_BarentsSea, \"ohc\")\n",
    "pandas_OceanHeatContent_Pivot_BarentsSea.head(4)"
   ]
  },
  {
   "cell_type": "code",
   "execution_count": null,
   "metadata": {},
   "outputs": [],
   "source": [
    "pandas_Area_Masked_BarentsSea = pandas_Area_BarentsSea[~pandas_SeaIceConcentration_Mask_BarentsSea[\"mask\"]]\n",
    "pandas_Area_Masked_BarentsSea.head(4)"
   ]
  },
  {
   "cell_type": "markdown",
   "metadata": {},
   "source": [
    "## Add variables"
   ]
  },
  {
   "cell_type": "code",
   "execution_count": null,
   "metadata": {},
   "outputs": [],
   "source": [
    "def logitScaling(dataFrame, columns, scaling):\n",
    "    dataFrameCopy = dataFrame.copy()\n",
    "    for column in columns:\n",
    "        newValue = scipy.special.logit(scaling * dataFrame[[column]] + (1 - scaling) / 2)\n",
    "        dataFrameCopy[[column + \"_log\"]] = newValue\n",
    "        dataFrameCopy.drop(column, axis=1, inplace=True)\n",
    "    return dataFrameCopy"
   ]
  },
  {
   "cell_type": "code",
   "execution_count": null,
   "metadata": {},
   "outputs": [],
   "source": [
    "pandas_SeaIceConcentration_Logit_BarentsSea = logitScaling(pandas_SeaIceConcentration_Pivot_BarentsSea, [\"sic\"], 0.98)\n",
    "pandas_SeaIceConcentration_Logit_BarentsSea.head(4)"
   ]
  },
  {
   "cell_type": "code",
   "execution_count": null,
   "metadata": {},
   "outputs": [],
   "source": [
    "def deTrend(dataFrame, columns):\n",
    "    dataFrameCopy = dataFrame.copy()\n",
    "    def f(df, column):\n",
    "        prediction = statsmodels.formula.api.ols(formula=column + \" ~ time + sin + cos\", data=df).fit().predict()\n",
    "        df[column + \"_dt\"] = df[column] - prediction\n",
    "        return df\n",
    "    dataFrameCopy[\"time\"] = dataFrameCopy.index.get_level_values(level=\"time\")\n",
    "    dataFrameCopy[\"position\"] = dataFrameCopy.index.get_level_values(level=\"position\")\n",
    "    dataFrameCopy[\"sin\"] = dataFrameCopy[\"time\"].transform(lambda x: numpy.sin(x * 2 * numpy.pi / 48))\n",
    "    dataFrameCopy[\"cos\"] = dataFrameCopy[\"time\"].transform(lambda x: numpy.cos(x * 2 * numpy.pi / 48))\n",
    "    for column in columns:\n",
    "        dataFrameCopy = dataFrameCopy.groupby(level=\"position\").apply(f, column=column)\n",
    "    dataFrameCopy.drop([column, \"sin\", \"cos\"], axis=1, inplace=True)\n",
    "    dataFrameCopy.set_index([\"position\", \"time\"], inplace=True)\n",
    "    return dataFrameCopy"
   ]
  },
  {
   "cell_type": "code",
   "execution_count": null,
   "metadata": {
    "scrolled": true
   },
   "outputs": [],
   "source": [
    "pandas_SeaIceConcentration_DeTrended_BarentsSea = deTrend(pandas_SeaIceConcentration_Logit_BarentsSea, [\"sic_log\"])\n",
    "pandas_SeaIceConcentration_DeTrended_BarentsSea.head(5)"
   ]
  },
  {
   "cell_type": "code",
   "execution_count": null,
   "metadata": {
    "scrolled": true
   },
   "outputs": [],
   "source": [
    "pandas_SeaIceConcentration_DeTrended_BarentsSea = deTrend(pandas_SeaIceConcentration_Logit_BarentsSea, [\"sic_log\"])\n",
    "pandas_SeaIceConcentration_DeTrended_BarentsSea.head(5)"
   ]
  },
  {
   "cell_type": "code",
   "execution_count": null,
   "metadata": {
    "scrolled": true
   },
   "outputs": [],
   "source": [
    "pandas_Temperature_DeTrended_BarentsSea = deTrend(pandas_Temperature_Pivot_BarentsSea, [\"temp\"])\n",
    "pandas_Temperature_DeTrended_BarentsSea.head(5)"
   ]
  },
  {
   "cell_type": "code",
   "execution_count": null,
   "metadata": {
    "scrolled": true
   },
   "outputs": [],
   "source": [
    "pandas_OceanHeatContent_DeTrended_BarentsSea = deTrend(pandas_OceanHeatContent_Pivot_BarentsSea, [\"ohc\"])\n",
    "pandas_OceanHeatContent_DeTrended_BarentsSea.head(5)"
   ]
  },
  {
   "cell_type": "code",
   "execution_count": null,
   "metadata": {},
   "outputs": [],
   "source": [
    "def otherTimePeriods(dataFrame, timePeriods, direction, columns):\n",
    "    dataFrameCopy = dataFrame[columns].copy()\n",
    "    def f(df, timePeriods, column):\n",
    "        for i in range(direction, direction * (timePeriods + 1), direction):\n",
    "            if i < 0:\n",
    "                newColumn = column + \"_tm\" + str(-i)\n",
    "            else:\n",
    "                newColumn = column + \"_tp\" + str(i)\n",
    "            df[newColumn] = df[column].shift(-i)\n",
    "        return df\n",
    "    for column in columns:\n",
    "        dataFrameCopy = dataFrameCopy.groupby(level=\"position\").apply(f, timePeriods=timePeriods, column=column)\n",
    "    dataFrameCopy.drop([column], axis=1, inplace=True)\n",
    "    return dataFrameCopy"
   ]
  },
  {
   "cell_type": "code",
   "execution_count": null,
   "metadata": {},
   "outputs": [],
   "source": [
    "pandas_SeaIceConcentration_FutureTime_BarentsSea = otherTimePeriods(pandas_SeaIceConcentration_Pivot_BarentsSea, 5, 1, [\"sic\"])\n",
    "pandas_SeaIceConcentration_FutureTime_BarentsSea.head(5)"
   ]
  },
  {
   "cell_type": "code",
   "execution_count": null,
   "metadata": {},
   "outputs": [],
   "source": [
    "pandas_SeaIceConcentration_Logit_FutureTime_BarentsSea = otherTimePeriods(pandas_SeaIceConcentration_Logit_BarentsSea, 5, 1, [\"sic_log\"])\n",
    "pandas_SeaIceConcentration_Logit_FutureTime_BarentsSea.head(5)"
   ]
  },
  {
   "cell_type": "code",
   "execution_count": null,
   "metadata": {},
   "outputs": [],
   "source": [
    "pandas_SeaIceConcentration_PreviousTime_BarentsSea = otherTimePeriods(pandas_SeaIceConcentration_DeTrended_BarentsSea, 3, -1, [\"sic_log_dt\"])\n",
    "pandas_SeaIceConcentration_PreviousTime_BarentsSea.head(5)"
   ]
  },
  {
   "cell_type": "code",
   "execution_count": null,
   "metadata": {},
   "outputs": [],
   "source": [
    "pandas_Temperature_PreviousTime_BarentsSea = otherTimePeriods(pandas_Temperature_DeTrended_BarentsSea, 3, -1, [\"temp_dt\"])\n",
    "pandas_Temperature_PreviousTime_BarentsSea.head(5)"
   ]
  },
  {
   "cell_type": "code",
   "execution_count": null,
   "metadata": {},
   "outputs": [],
   "source": [
    "pandas_OceanHeatContent_PreviousTime_BarentsSea = otherTimePeriods(pandas_OceanHeatContent_DeTrended_BarentsSea, 3, -1, [\"ohc_dt\"])\n",
    "pandas_OceanHeatContent_PreviousTime_BarentsSea.head(5)"
   ]
  },
  {
   "cell_type": "code",
   "execution_count": null,
   "metadata": {},
   "outputs": [],
   "source": [
    "def addSpatialNeighbours(dataFrame, spatialStructure, columns):\n",
    "    result = pandas.DataFrame(index=dataFrame.index)\n",
    "    for column in columns:\n",
    "        spatialMap = spatialStructure[column].to_dict()\n",
    "        spatialMap = {v:k for k, v in spatialMap.items()}\n",
    "        partialResult = dataFrame.copy()\n",
    "        partialResult.reset_index(level=\"time\", inplace=True)\n",
    "        partialResult.index = partialResult.index.map(spatialMap)\n",
    "        partialResult.set_index(\"time\", append=True, inplace=True)\n",
    "        partialResult.columns = [x + \"_\" + column for x in partialResult.columns]\n",
    "        result = result.join(partialResult)\n",
    "    return result"
   ]
  },
  {
   "cell_type": "code",
   "execution_count": null,
   "metadata": {},
   "outputs": [],
   "source": [
    "pandas_SeaIceConcentration_Neighbours_BarentsSea = addSpatialNeighbours(pandas_SeaIceConcentration_PreviousTime_BarentsSea[[\"sic_log_dt_tm1\"]], pandas_SpatialStructure_BarentsSea, [\"N\", \"NE\", \"E\", \"SE\", \"S\", \"SW\", \"W\", \"NW\"])\n",
    "pandas_SeaIceConcentration_Neighbours_BarentsSea.head(5)"
   ]
  },
  {
   "cell_type": "code",
   "execution_count": null,
   "metadata": {},
   "outputs": [],
   "source": [
    "pandas_BarentsSea = pandas_SeaIceConcentration_Pivot_BarentsSea.join([pandas_SeaIceConcentration_FutureTime_BarentsSea, pandas_SeaIceConcentration_Logit_BarentsSea, pandas_SeaIceConcentration_Logit_FutureTime_BarentsSea, pandas_SeaIceConcentration_PreviousTime_BarentsSea, pandas_Temperature_PreviousTime_BarentsSea, pandas_OceanHeatContent_PreviousTime_BarentsSea, pandas_SeaIceConcentration_Neighbours_BarentsSea, pandas_SeaIceConcentration_DeTrended_BarentsSea, pandas_Temperature_DeTrended_BarentsSea, pandas_OceanHeatContent_DeTrended_BarentsSea])\n",
    "pandas_BarentsSea.drop([0, 1, 2, 1824, 1825, 1826, 1827, 1828], level=\"time\", inplace=True)\n",
    "pandas_BarentsSea[\"time\"] = pandas_BarentsSea.index.get_level_values(level=\"time\")\n",
    "pandas_BarentsSea[\"sin\"] = numpy.sin(pandas_BarentsSea[\"time\"] * 2 * numpy.pi / 48)\n",
    "pandas_BarentsSea[\"cos\"] = numpy.cos(pandas_BarentsSea[\"time\"] * 2 * numpy.pi / 48)\n",
    "pandas_BarentsSea.head(6)"
   ]
  },
  {
   "cell_type": "code",
   "execution_count": null,
   "metadata": {},
   "outputs": [],
   "source": [
    "pandas_BarentsSea.count().sum()"
   ]
  },
  {
   "cell_type": "code",
   "execution_count": null,
   "metadata": {},
   "outputs": [],
   "source": [
    "def standardizeColumns(column):\n",
    "    if column.name in [\"sic\", \"sic_tp1\", \"sic_tp2\", \"sic_tp3\", \"sic_tp4\", \"sic_tp5\", \"sic_log\", \"sic_log_tp1\", \"sic_log_tp2\", \"sic_log_tp3\", \"sic_log_tp4\", \"sic_log_tp5\"]:\n",
    "        return column\n",
    "    else:\n",
    "        mean = column.mean()\n",
    "        std = column.std()\n",
    "        return (column - mean) / std"
   ]
  },
  {
   "cell_type": "code",
   "execution_count": null,
   "metadata": {},
   "outputs": [],
   "source": [
    "pandas_BarentsSea_Standardised = pandas_BarentsSea.groupby(\"position\").transform(standardizeColumns)"
   ]
  },
  {
   "cell_type": "code",
   "execution_count": null,
   "metadata": {},
   "outputs": [],
   "source": [
    "pandas_BarentsSea_Standardised.count().sum()"
   ]
  },
  {
   "cell_type": "code",
   "execution_count": null,
   "metadata": {},
   "outputs": [],
   "source": [
    "pandas_BarentsSea_Standardised.groupby(\"position\").count()[(pandas_BarentsSea_Standardised.groupby(\"position\").count() > 0) & (pandas_BarentsSea_Standardised.groupby(\"position\").count() < 1821)].sum().sum()"
   ]
  },
  {
   "cell_type": "code",
   "execution_count": null,
   "metadata": {},
   "outputs": [],
   "source": [
    "pandas_BarentsSea_Standardised.fillna(0, inplace=True)"
   ]
  },
  {
   "cell_type": "code",
   "execution_count": null,
   "metadata": {},
   "outputs": [],
   "source": [
    "pandas_BarentsSea_Standardised.count().sum()"
   ]
  },
  {
   "cell_type": "markdown",
   "metadata": {},
   "source": [
    "## Descriptive Statistics"
   ]
  },
  {
   "cell_type": "code",
   "execution_count": null,
   "metadata": {
    "scrolled": true
   },
   "outputs": [],
   "source": [
    "pandas_BarentsSea[[\"sic_log_dt\", \"temp_dt\", \"ohc_dt\"]].corr()"
   ]
  },
  {
   "cell_type": "code",
   "execution_count": null,
   "metadata": {},
   "outputs": [],
   "source": [
    "pandas_BarentsSea[[\"sic_log_dt\", \"sic_log_dt_tm1\", \"sic_log_dt_tm2\", \"sic_log_dt_tm3\"]].corr()"
   ]
  },
  {
   "cell_type": "code",
   "execution_count": null,
   "metadata": {
    "scrolled": true
   },
   "outputs": [],
   "source": [
    "pandas_BarentsSea[[\"temp_dt\", \"temp_dt_tm1\", \"temp_dt_tm2\", \"temp_dt_tm3\"]].corr()"
   ]
  },
  {
   "cell_type": "code",
   "execution_count": null,
   "metadata": {},
   "outputs": [],
   "source": [
    "pandas_BarentsSea[[\"ohc_dt\", \"ohc_dt_tm1\", \"ohc_dt_tm2\", \"ohc_dt_tm3\"]].corr()"
   ]
  },
  {
   "cell_type": "code",
   "execution_count": null,
   "metadata": {},
   "outputs": [],
   "source": [
    "pandas_BarentsSea[[\"sic\"]].hist()"
   ]
  },
  {
   "cell_type": "code",
   "execution_count": null,
   "metadata": {},
   "outputs": [],
   "source": [
    "pandas_SeaIceConcentration_Logit_BarentsSea[[\"sic_log\"]].hist()"
   ]
  },
  {
   "cell_type": "code",
   "execution_count": null,
   "metadata": {},
   "outputs": [],
   "source": [
    "pandas_BarentsSea[[\"sic_log_dt\"]].hist()"
   ]
  },
  {
   "cell_type": "code",
   "execution_count": null,
   "metadata": {},
   "outputs": [],
   "source": [
    "pandas_Temperature_Pivot_BarentsSea[[\"temp\"]].hist()"
   ]
  },
  {
   "cell_type": "code",
   "execution_count": null,
   "metadata": {},
   "outputs": [],
   "source": [
    "pandas_BarentsSea[[\"temp_dt\"]].hist()"
   ]
  },
  {
   "cell_type": "code",
   "execution_count": null,
   "metadata": {},
   "outputs": [],
   "source": [
    "pandas_OceanHeatContent_Pivot_BarentsSea[[\"ohc\"]].hist()"
   ]
  },
  {
   "cell_type": "code",
   "execution_count": null,
   "metadata": {},
   "outputs": [],
   "source": [
    "pandas_BarentsSea[[\"ohc_dt\"]].hist()"
   ]
  },
  {
   "cell_type": "code",
   "execution_count": null,
   "metadata": {},
   "outputs": [],
   "source": [
    "statsmodels.graphics.tsaplots.plot_acf(pandas_BarentsSea.loc[10, \"sic\"], lags=60).show()"
   ]
  },
  {
   "cell_type": "code",
   "execution_count": null,
   "metadata": {},
   "outputs": [],
   "source": [
    "statsmodels.graphics.tsaplots.plot_acf(pandas_SeaIceConcentration_Logit_BarentsSea.loc[10, \"sic_log\"], lags=60).show()"
   ]
  },
  {
   "cell_type": "code",
   "execution_count": null,
   "metadata": {},
   "outputs": [],
   "source": [
    "statsmodels.graphics.tsaplots.plot_acf(pandas_BarentsSea.loc[10, \"sic_log_dt\"], lags=60).show()"
   ]
  },
  {
   "cell_type": "code",
   "execution_count": null,
   "metadata": {},
   "outputs": [],
   "source": [
    "statsmodels.graphics.tsaplots.plot_acf(pandas_Temperature_Pivot_BarentsSea.loc[10, \"temp\"], lags=60).show()"
   ]
  },
  {
   "cell_type": "code",
   "execution_count": null,
   "metadata": {},
   "outputs": [],
   "source": [
    "statsmodels.graphics.tsaplots.plot_acf(pandas_BarentsSea.loc[10, \"temp_dt\"], lags=60).show()"
   ]
  },
  {
   "cell_type": "code",
   "execution_count": null,
   "metadata": {},
   "outputs": [],
   "source": [
    "statsmodels.graphics.tsaplots.plot_acf(pandas_OceanHeatContent_Pivot_BarentsSea.loc[10, \"ohc\"], lags=60).show()"
   ]
  },
  {
   "cell_type": "code",
   "execution_count": null,
   "metadata": {},
   "outputs": [],
   "source": [
    "statsmodels.graphics.tsaplots.plot_acf(pandas_BarentsSea.loc[10, \"ohc_dt\"], lags=60).show()"
   ]
  },
  {
   "cell_type": "code",
   "execution_count": null,
   "metadata": {},
   "outputs": [],
   "source": [
    "statsmodels.graphics.tsaplots.plot_pacf(pandas_BarentsSea.loc[10, \"sic\"], lags=60).show()"
   ]
  },
  {
   "cell_type": "code",
   "execution_count": null,
   "metadata": {},
   "outputs": [],
   "source": [
    "statsmodels.graphics.tsaplots.plot_pacf(pandas_SeaIceConcentration_Logit_BarentsSea.loc[10, \"sic_log\"], lags=60).show()"
   ]
  },
  {
   "cell_type": "code",
   "execution_count": null,
   "metadata": {},
   "outputs": [],
   "source": [
    "statsmodels.graphics.tsaplots.plot_pacf(pandas_BarentsSea.loc[10, \"sic_log_dt\"], lags=60).show()"
   ]
  },
  {
   "cell_type": "code",
   "execution_count": null,
   "metadata": {},
   "outputs": [],
   "source": [
    "statsmodels.graphics.tsaplots.plot_pacf(pandas_Temperature_Pivot_BarentsSea.loc[10, \"temp\"], lags=60).show()"
   ]
  },
  {
   "cell_type": "code",
   "execution_count": null,
   "metadata": {},
   "outputs": [],
   "source": [
    "statsmodels.graphics.tsaplots.plot_pacf(pandas_BarentsSea.loc[10, \"temp_dt\"], lags=60).show()"
   ]
  },
  {
   "cell_type": "code",
   "execution_count": null,
   "metadata": {},
   "outputs": [],
   "source": [
    "statsmodels.graphics.tsaplots.plot_pacf(pandas_OceanHeatContent_Pivot_BarentsSea.loc[10, \"ohc\"], lags=60).show()"
   ]
  },
  {
   "cell_type": "code",
   "execution_count": null,
   "metadata": {},
   "outputs": [],
   "source": [
    "statsmodels.graphics.tsaplots.plot_pacf(pandas_BarentsSea.loc[10, \"ohc_dt\"], lags=60).show()"
   ]
  },
  {
   "cell_type": "code",
   "execution_count": null,
   "metadata": {},
   "outputs": [],
   "source": [
    "def plotTrend(dataFrame, position, column):\n",
    "    data = dataFrame.loc[position, column].to_frame()\n",
    "    data[\"time\"] = data.index\n",
    "    data.plot.scatter(x=\"time\", y=column)\n",
    "    x = statsmodels.api.add_constant(data[\"time\"])\n",
    "    y = data[column]\n",
    "    matplotlib.pyplot.plot(statsmodels.api.OLS(y, x).fit().predict(), \"r-\")"
   ]
  },
  {
   "cell_type": "code",
   "execution_count": null,
   "metadata": {},
   "outputs": [],
   "source": [
    "plotTrend(pandas_BarentsSea, 10, \"sic\")"
   ]
  },
  {
   "cell_type": "code",
   "execution_count": null,
   "metadata": {},
   "outputs": [],
   "source": [
    "plotTrend(pandas_SeaIceConcentration_Logit_BarentsSea, 10, \"sic_log\")"
   ]
  },
  {
   "cell_type": "code",
   "execution_count": null,
   "metadata": {},
   "outputs": [],
   "source": [
    "plotTrend(pandas_BarentsSea, 10, \"sic_log_dt\")"
   ]
  },
  {
   "cell_type": "code",
   "execution_count": null,
   "metadata": {},
   "outputs": [],
   "source": [
    "plotTrend(pandas_Temperature_Pivot_BarentsSea, 10, \"temp\")"
   ]
  },
  {
   "cell_type": "code",
   "execution_count": null,
   "metadata": {},
   "outputs": [],
   "source": [
    "plotTrend(pandas_BarentsSea, 10, \"temp_dt\")"
   ]
  },
  {
   "cell_type": "code",
   "execution_count": null,
   "metadata": {},
   "outputs": [],
   "source": [
    "plotTrend(pandas_OceanHeatContent_Pivot_BarentsSea, 10, \"ohc\")"
   ]
  },
  {
   "cell_type": "code",
   "execution_count": null,
   "metadata": {},
   "outputs": [],
   "source": [
    "plotTrend(pandas_BarentsSea, 10, \"ohc_dt\")"
   ]
  },
  {
   "cell_type": "code",
   "execution_count": null,
   "metadata": {},
   "outputs": [],
   "source": [
    "def trendDescriptives(dataFrame, column):\n",
    "    def f(df):\n",
    "        return statsmodels.formula.api.ols(formula=column + \" ~ time\", data=df).fit().params[1]\n",
    "    data = dataFrame[~pandas.isna(dataFrame[column])][[column]].reset_index(level=\"time\")\n",
    "    data[column] = (data[column] - data[column].mean()) / data[column].std()\n",
    "    params = data.groupby(level=\"position\").apply(f)\n",
    "    return {\"min\":params.min(),\n",
    "            \"mean\":params.mean(),\n",
    "            \"max\":params.max()}"
   ]
  },
  {
   "cell_type": "code",
   "execution_count": null,
   "metadata": {
    "scrolled": true
   },
   "outputs": [],
   "source": [
    "trendDescriptives(pandas_BarentsSea, \"sic\")"
   ]
  },
  {
   "cell_type": "code",
   "execution_count": null,
   "metadata": {
    "scrolled": true
   },
   "outputs": [],
   "source": [
    "trendDescriptives(pandas_SeaIceConcentration_Logit_BarentsSea, \"sic_log\")"
   ]
  },
  {
   "cell_type": "code",
   "execution_count": null,
   "metadata": {
    "scrolled": true
   },
   "outputs": [],
   "source": [
    "trendDescriptives(pandas_BarentsSea, \"sic_log_dt\")"
   ]
  },
  {
   "cell_type": "code",
   "execution_count": null,
   "metadata": {},
   "outputs": [],
   "source": [
    "trendDescriptives(pandas_Temperature_Pivot_BarentsSea, \"temp\")"
   ]
  },
  {
   "cell_type": "code",
   "execution_count": null,
   "metadata": {},
   "outputs": [],
   "source": [
    "trendDescriptives(pandas_BarentsSea, \"temp_dt\")"
   ]
  },
  {
   "cell_type": "code",
   "execution_count": null,
   "metadata": {},
   "outputs": [],
   "source": [
    "trendDescriptives(pandas_OceanHeatContent_Pivot_BarentsSea, \"ohc\")"
   ]
  },
  {
   "cell_type": "code",
   "execution_count": null,
   "metadata": {
    "scrolled": true
   },
   "outputs": [],
   "source": [
    "trendDescriptives(pandas_BarentsSea, \"ohc_dt\")"
   ]
  },
  {
   "cell_type": "code",
   "execution_count": null,
   "metadata": {},
   "outputs": [],
   "source": [
    "def plotSeasonality(dataFrame, position, column):\n",
    "    data = dataFrame.loc[position, column].to_frame()\n",
    "    data[\"time\"] = data.index % 48\n",
    "    data.plot.scatter(x=\"time\", y=column)\n",
    "    sine = numpy.sin(data[\"time\"] * 2 * numpy.pi / 48)\n",
    "    cosine = numpy.cos(data[\"time\"] * 2 * numpy.pi / 48)\n",
    "    x = statsmodels.api.add_constant(numpy.column_stack((sine, cosine)))\n",
    "    y = data[column]\n",
    "    matplotlib.pyplot.plot(statsmodels.api.OLS(y, x).fit().predict()[:48], \"r-\")"
   ]
  },
  {
   "cell_type": "code",
   "execution_count": null,
   "metadata": {},
   "outputs": [],
   "source": [
    "plotSeasonality(pandas_BarentsSea, 10, \"sic\")"
   ]
  },
  {
   "cell_type": "code",
   "execution_count": null,
   "metadata": {
    "scrolled": true
   },
   "outputs": [],
   "source": [
    "plotSeasonality(pandas_SeaIceConcentration_Logit_BarentsSea, 10, \"sic_log\")"
   ]
  },
  {
   "cell_type": "code",
   "execution_count": null,
   "metadata": {
    "scrolled": true
   },
   "outputs": [],
   "source": [
    "plotSeasonality(pandas_BarentsSea, 10, \"sic_log_dt\")"
   ]
  },
  {
   "cell_type": "code",
   "execution_count": null,
   "metadata": {},
   "outputs": [],
   "source": [
    "plotSeasonality(pandas_Temperature_Pivot_BarentsSea, 10, \"temp\")"
   ]
  },
  {
   "cell_type": "code",
   "execution_count": null,
   "metadata": {},
   "outputs": [],
   "source": [
    "plotSeasonality(pandas_BarentsSea, 10, \"temp_dt\")"
   ]
  },
  {
   "cell_type": "code",
   "execution_count": null,
   "metadata": {},
   "outputs": [],
   "source": [
    "plotSeasonality(pandas_OceanHeatContent_Pivot_BarentsSea, 10, \"ohc\")"
   ]
  },
  {
   "cell_type": "code",
   "execution_count": null,
   "metadata": {
    "scrolled": true
   },
   "outputs": [],
   "source": [
    "plotSeasonality(pandas_BarentsSea, 10, \"ohc_dt\")"
   ]
  },
  {
   "cell_type": "code",
   "execution_count": null,
   "metadata": {},
   "outputs": [],
   "source": [
    "def seasonalityDescriptives(dataFrame, column):\n",
    "    def f(df):\n",
    "        return statsmodels.formula.api.ols(formula=column + \" ~ sin + cos\", data=df).fit().params[1:]\n",
    "    data = dataFrame[~pandas.isna(dataFrame[column])][[column]].reset_index(level=\"time\")\n",
    "    data[column] = (data[column] - data[column].mean()) / data[column].std()\n",
    "    data[\"sin\"] = numpy.sin(data[\"time\"] * 2 * numpy.pi / 48)\n",
    "    data[\"cos\"] = numpy.cos(data[\"time\"] * 2 * numpy.pi / 48)\n",
    "    params = data.groupby(level=\"position\").apply(f)\n",
    "    params[\"angle\"] = numpy.arcsin(params[\"cos\"] / numpy.sqrt(params[\"sin\"]**2 + params[\"cos\"]**2))\n",
    "    return {\"min\":params.min(),\n",
    "            \"mean\":params.mean(),\n",
    "            \"max\":params.max()}"
   ]
  },
  {
   "cell_type": "code",
   "execution_count": null,
   "metadata": {},
   "outputs": [],
   "source": [
    "seasonalityDescriptives(pandas_BarentsSea, \"sic\")"
   ]
  },
  {
   "cell_type": "code",
   "execution_count": null,
   "metadata": {
    "scrolled": true
   },
   "outputs": [],
   "source": [
    "seasonalityDescriptives(pandas_SeaIceConcentration_Logit_BarentsSea, \"sic_log\")"
   ]
  },
  {
   "cell_type": "code",
   "execution_count": null,
   "metadata": {
    "scrolled": true
   },
   "outputs": [],
   "source": [
    "seasonalityDescriptives(pandas_BarentsSea, \"sic_log_dt\")"
   ]
  },
  {
   "cell_type": "code",
   "execution_count": null,
   "metadata": {},
   "outputs": [],
   "source": [
    "seasonalityDescriptives(pandas_Temperature_Pivot_BarentsSea, \"temp\")"
   ]
  },
  {
   "cell_type": "code",
   "execution_count": null,
   "metadata": {},
   "outputs": [],
   "source": [
    "seasonalityDescriptives(pandas_BarentsSea, \"temp_dt\")"
   ]
  },
  {
   "cell_type": "code",
   "execution_count": null,
   "metadata": {},
   "outputs": [],
   "source": [
    "seasonalityDescriptives(pandas_OceanHeatContent_Pivot_BarentsSea, \"ohc\")"
   ]
  },
  {
   "cell_type": "code",
   "execution_count": null,
   "metadata": {
    "scrolled": true
   },
   "outputs": [],
   "source": [
    "seasonalityDescriptives(pandas_BarentsSea, \"ohc_dt\")"
   ]
  },
  {
   "cell_type": "markdown",
   "metadata": {},
   "source": [
    "## Analysis"
   ]
  },
  {
   "cell_type": "code",
   "execution_count": null,
   "metadata": {},
   "outputs": [],
   "source": [
    "del pandas_BarentsSea\n",
    "del pandas_SeaIceConcentration_Neighbours_BarentsSea\n",
    "del pandas_SeaIceConcentration_FutureTime_BarentsSea\n",
    "del pandas_SeaIceConcentration_Logit_FutureTime_BarentsSea\n",
    "del pandas_OceanHeatContent_PreviousTime_BarentsSea\n",
    "del pandas_SeaIceConcentration_PreviousTime_BarentsSea\n",
    "del pandas_Temperature_PreviousTime_BarentsSea\n",
    "del pandas_OceanHeatContent_DeTrended_BarentsSea\n",
    "del pandas_Temperature_DeTrended_BarentsSea\n",
    "del pandas_SeaIceConcentration_BarentsSea\n",
    "del pandas_Temperature_BarentsSea\n",
    "del pandas_SeaIceConcentration_Pivot_BarentsSea\n",
    "del pandas_SeaIceConcentration_Logit_BarentsSea\n",
    "del pandas_SeaIceConcentration_DeTrended_BarentsSea"
   ]
  },
  {
   "cell_type": "markdown",
   "metadata": {},
   "source": [
    "### Linear Regression"
   ]
  },
  {
   "cell_type": "code",
   "execution_count": null,
   "metadata": {},
   "outputs": [],
   "source": [
    "def addPredictedValues(fittedModel, dataFrame, dependentVariable):\n",
    "    predictedValues = fittedModel.predict(dataFrame)\n",
    "    residuals = scipy.special.expit(predictedValues) - dataFrame[dependentVariable]\n",
    "    model = pandas.Series(fittedModel, index=pandas.MultiIndex.from_product([[\"model\"], [\"model\"]]))\n",
    "    predictedValues.index = pandas.MultiIndex.from_product([[\"predictions\"], predictedValues.index])\n",
    "    residuals.index = pandas.MultiIndex.from_product([[\"residuals\"], residuals.index])\n",
    "    result = model.append(predictedValues).append(residuals)\n",
    "    return result"
   ]
  },
  {
   "cell_type": "code",
   "execution_count": null,
   "metadata": {},
   "outputs": [],
   "source": [
    "def linearRegression(dataFrame, trainStop, alpha, weight, formula, dependentVariable):\n",
    "    dataFrame = dataFrame.droplevel(level=\"position\")\n",
    "    trainData = dataFrame.loc[slice(trainStop), :]\n",
    "    fittedModel = statsmodels.formula.api.ols(formula, trainData).fit_regularized(alpha=alpha, L1_wt=weight)\n",
    "    result = addPredictedValues(fittedModel, dataFrame, dependentVariable)\n",
    "    return result"
   ]
  },
  {
   "cell_type": "code",
   "execution_count": null,
   "metadata": {},
   "outputs": [],
   "source": [
    "def analyseTimeSeries(dataFrame, trainStop, alpha, weight, formula, dependentVariable):\n",
    "    result = dataFrame.groupby(\"position\").apply(\n",
    "        linearRegression,\n",
    "        trainStop,\n",
    "        alpha,\n",
    "        weight,\n",
    "        formula,\n",
    "        dependentVariable)\n",
    "    result.sort_index(axis=1, inplace=True)\n",
    "    return result"
   ]
  },
  {
   "cell_type": "code",
   "execution_count": null,
   "metadata": {},
   "outputs": [],
   "source": [
    "def determineRmse(regressionResults, area, trainStop, testStop, timeOffSet):\n",
    "    differencesIn = regressionResults.loc[:, ('residuals', slice(trainStop))].multiply(area[\"area\"], axis=\"index\", level=\"position\").pow(2)\n",
    "    differencesOut = regressionResults.loc[:, ('residuals', slice(trainStop + 1, testStop))].multiply(area[\"area\"], axis=\"index\", level=\"position\").pow(2)\n",
    "    totalSize = 24 * 56\n",
    "    length = 783\n",
    "    totalRMSEIn = differencesIn.mean().mul(length).div(totalSize).pow(1/2).mean()\n",
    "    stdRMSEIn = differencesIn.var().mul(length).div(totalSize).pow(1/4).mean()\n",
    "    totalRMSEOut = differencesOut.mean().mul(length).div(totalSize).pow(1/2).mean()\n",
    "    stdRMSEOut = differencesOut.var().mul(length).div(totalSize).pow(1/4).mean()\n",
    "    differencesOut.columns = pandas.MultiIndex.from_tuples([(math.floor((x[1] + timeOffSet) / 4) % 12 + 1, x[1]) for x in differencesOut.columns])\n",
    "    monthlyRMSE = differencesOut.mean().mul(length).div(totalSize).pow(1/2).mean(level=0)\n",
    "    return regressionResults, totalRMSEIn, stdRMSEIn, totalRMSEOut, stdRMSEOut, monthlyRMSE"
   ]
  },
  {
   "cell_type": "code",
   "execution_count": null,
   "metadata": {},
   "outputs": [],
   "source": [
    "def scanHyperParameters(dataFrame, area, regressionTypes, dependentVariables, independentVariables, alphas, weights):\n",
    "    start = timePackage.time()\n",
    "    folds = 5\n",
    "    yearsPerFold = 4\n",
    "    startPeriod = dataFrame.index.get_level_values(\"time\").max() - yearsPerFold * 48 * (folds + 1)\n",
    "    trainList = [startPeriod + yearsPerFold * i * 48 for i in range(folds)]\n",
    "    testList = [startPeriod + yearsPerFold * (i + 1) * 48 for i in range(folds)]\n",
    "    index = pandas.MultiIndex.from_product([regressionTypes, dependentVariables, independentVariables, alphas, weights], names=[\"regressionType\", \"dependentVariable\", \"independentVariable\", \"alpha\", \"weight\"])\n",
    "    result = pandas.DataFrame(index=index, columns=[\"cv_\" + str(i) for i in range(folds)]).sort_index()\n",
    "    for r in regressionTypes:\n",
    "        for y in dependentVariables:\n",
    "            for x in independentVariables:\n",
    "                if r == \"linear\":\n",
    "                    formula = y.replace(\"sic\", \"sic_log\") + \" ~ \" + x\n",
    "                else:\n",
    "                    formula = y + \" ~ \" + x\n",
    "                for a in alphas:\n",
    "                    for w in weights:\n",
    "                        for i in range(folds):\n",
    "                            print(\"Time: {:0.1f} | Regression Type: {} | Dependent: {} | Independent: {} | Alpha: {:0.3f} | Weight: {:0.3f} | Iteration: {:d}\".format(timePackage.time() - start, r, y, x, a, w, i), end=\"\\r\")\n",
    "                            regressionResults = analyseTimeSeries(dataFrame, trainList[i], a, w, formula, y)\n",
    "                            _, _, _, totalRMSEOut, _, _ = determineRmse(regressionResults, area, trainList[i], testList[i], 0)\n",
    "                            result.loc[(r, y, x, a, w), \"cv_\" + str(i)] = totalRMSEOut\n",
    "    mean = result.mean(axis=1)\n",
    "    std = result.std(axis=1)\n",
    "    weighted_mean = pandas.to_numeric(result.dot(trainList) / sum(trainList))\n",
    "    result[\"mean\"] = mean\n",
    "    result[\"std\"] = std\n",
    "    result[\"weighted_mean\"] = weighted_mean\n",
    "    return result"
   ]
  },
  {
   "cell_type": "code",
   "execution_count": null,
   "metadata": {},
   "outputs": [],
   "source": [
    "def tuneHyperParameters(hyperParameters):\n",
    "    ids = hyperParameters[[\"weighted_mean\"]].groupby([\"regressionType\", \"dependentVariable\", \"independentVariable\"]).idxmin()\n",
    "    result = pandas.DataFrame(ids[\"weighted_mean\"].tolist(), index=ids.index, columns=[\"regressionType\", \"dependentVariable\", \"independentVariable\", \"alpha\", \"weight\"])\n",
    "    result.drop(columns=[\"regressionType\", \"dependentVariable\", \"independentVariable\"], inplace=True)\n",
    "    return result"
   ]
  },
  {
   "cell_type": "code",
   "execution_count": null,
   "metadata": {},
   "outputs": [],
   "source": [
    "def runAnalysis(tunedHyperParameters, dataFrame, area):\n",
    "    def f(hyperParameters, dataFrame, area):\n",
    "        start = timePackage.time()\n",
    "        yearsPerFold = 4\n",
    "        testStop = dataFrame.index.get_level_values(\"time\").max()\n",
    "        trainStop = testStop - yearsPerFold * 48\n",
    "        r = hyperParameters.index.get_level_values(\"regressionType\")[0]\n",
    "        y = hyperParameters.index.get_level_values(\"dependentVariable\")[0]\n",
    "        x = hyperParameters.index.get_level_values(\"independentVariable\")[0]\n",
    "        a = hyperParameters[\"alpha\"][0]\n",
    "        w = hyperParameters[\"weight\"][0]\n",
    "        t = [\"sic\", \"sic_tp1\", \"sic_tp2\", \"sic_tp3\", \"sic_tp4\", \"sic_tp5\"].index(y)\n",
    "        if r == \"linear\":\n",
    "            formula = y.replace(\"sic\", \"sic_log\") + \" ~ \" + x\n",
    "        else:\n",
    "            formula = y + \" ~ \" + x    \n",
    "        print(\"Time: {:0.1f} | Regression Type: {} | Dependent: {} | Independent: {} | Alpha: {:0.3f} | Weight: {:0.3f}\".format(timePackage.time() - start, r, y, x, a, w), end=\"\\r\")\n",
    "        regressionResults = analyseTimeSeries(dataFrame, trainStop, a, w, formula, y)\n",
    "        _, _, _, rmseOut, stdOut, rmseMonths = determineRmse(regressionResults, area, trainStop, testStop, t)\n",
    "        result = hyperParameters\n",
    "        result[\"rmse_out_mean\"] = rmseOut\n",
    "        result[\"rmse_out_std\"] = stdOut\n",
    "        result = result.assign(**dict(zip([\"jan\", \"feb\", \"mar\", \"apr\", \"may\", \"jun\", \"jul\", \"aug\", \"sep\", \"oct\", \"nov\", \"dec\"], rmseMonths)))\n",
    "        return result\n",
    "    result = tunedHyperParameters.groupby([\"regressionType\", \"dependentVariable\", \"independentVariable\"]).apply(f, dataFrame, area)\n",
    "    return result"
   ]
  },
  {
   "cell_type": "code",
   "execution_count": null,
   "metadata": {},
   "outputs": [],
   "source": [
    "def shiftTimePeriod(dataFrame):\n",
    "    dataFrameCopy = dataFrame.copy()\n",
    "    columns = [\"sic_log_dt_tm1\", \"sic_log_dt_tm2\", \"sic_log_dt_tm3\", \"sic_log_dt_tm1_N\", \"sic_log_dt_tm1_NE\", \"sic_log_dt_tm1_E\", \"sic_log_dt_tm1_SE\", \"sic_log_dt_tm1_S\", \"sic_log_dt_tm1_SW\", \"sic_log_dt_tm1_W\", \"sic_log_dt_tm1_NW\"]\n",
    "    dataFrameCopy[columns] = dataFrameCopy[columns].groupby(level=\"position\").shift()\n",
    "    dataFrameCopy.drop(dataFrameCopy.index[0][1], level=\"time\", inplace=True)\n",
    "    return dataFrameCopy"
   ]
  },
  {
   "cell_type": "code",
   "execution_count": null,
   "metadata": {},
   "outputs": [],
   "source": [
    "def reAnalyseTimeSeries(dataFrame):\n",
    "    def f(df):\n",
    "        fittedModel = df[\"model\"].values[0]\n",
    "        df = df.droplevel(level=\"position\")\n",
    "        result = addPredictedValues(fittedModel, df, \"sic\")\n",
    "        return result\n",
    "    regressionResults = dataFrame.groupby(\"position\").apply(f)\n",
    "    regressionResults.sort_index(axis=1, inplace=True)\n",
    "    return regressionResults"
   ]
  },
  {
   "cell_type": "code",
   "execution_count": null,
   "metadata": {},
   "outputs": [],
   "source": [
    "def predictLeadTimes(dataFrame, area, trainStop, testStop, alpha, weight, formula, times):\n",
    "    regressionResults = analyseTimeSeries(dataFrame, trainStop, alpha, weight, formula, \"sic\")\n",
    "    dataFrame = dataFrame.join(regressionResults[\"model\"])\n",
    "    results = pandas.DataFrame(index=range(1, times))\n",
    "    for i in range(times):\n",
    "        regressionResults = reAnalyseTimeSeries(dataFrame)\n",
    "        _, _, _, rmseOut, stdOut, rmseMonths = determineRmse(regressionResults, area, trainStop, testStop, 0)\n",
    "        results.loc[i, \"rmse_out_mean\"] = rmseOut\n",
    "        results.loc[i, \"rmse_out_std\"] = stdOut\n",
    "        for month, rmse in zip([\"jan\", \"feb\", \"mar\", \"apr\", \"may\", \"jun\", \"jul\", \"aug\", \"sep\", \"oct\", \"nov\", \"dec\"], rmseMonths):\n",
    "            results.loc[i, month] = rmse\n",
    "        dataFrame = shiftTimePeriod(dataFrame)\n",
    "    results.sort_index(inplace=True)\n",
    "    return results"
   ]
  },
  {
   "cell_type": "code",
   "execution_count": null,
   "metadata": {},
   "outputs": [],
   "source": [
    "regressionTypes = [\"linear\"]\n",
    "dependentVariables = [\"sic\"]\n",
    "dependentVariables = [\"sic\", \"sic_tp1\", \"sic_tp2\", \"sic_tp3\", \"sic_tp4\", \"sic_tp5\"]\n",
    "independentVariables = [\n",
    "    \"time + sin + cos + sic_log_dt_tm1 + sic_log_dt_tm2 + sic_log_dt_tm3\",\n",
    "    \"time + sin + cos + sic_log_dt_tm1 + sic_log_dt_tm2 + sic_log_dt_tm3 + temp_dt_tm1 + temp_dt_tm2 + temp_dt_tm3 + ohc_dt_tm1 + ohc_dt_tm2 + ohc_dt_tm3\",\n",
    "    \"time + sin + cos + sic_log_dt_tm1 + sic_log_dt_tm2 + sic_log_dt_tm3 + temp_dt_tm1 + temp_dt_tm2 + temp_dt_tm3 + ohc_dt_tm1 + ohc_dt_tm2 + ohc_dt_tm3 + sic_log_dt_tm1_N + sic_log_dt_tm1_NE + sic_log_dt_tm1_E + sic_log_dt_tm1_SE + sic_log_dt_tm1_S + sic_log_dt_tm1_SW + sic_log_dt_tm1_W + sic_log_dt_tm1_NW\"]\n",
    "alphas = [0.128, 0.064, 0.032, 0.016, 0.008, 0.004]\n",
    "weights = [0]\n",
    "scannedHyperParameters = scanHyperParameters(pandas_BarentsSea_Standardised, pandas_Area_Masked_BarentsSea, regressionTypes, dependentVariables, independentVariables, alphas, weights)\n",
    "scannedHyperParameters"
   ]
  },
  {
   "cell_type": "code",
   "execution_count": null,
   "metadata": {},
   "outputs": [],
   "source": [
    "tunedHyperParameters = tuneHyperParameters(scannedHyperParameters)\n",
    "tunedHyperParameters"
   ]
  },
  {
   "cell_type": "code",
   "execution_count": null,
   "metadata": {},
   "outputs": [],
   "source": [
    "linear_Result = runAnalysis(tunedHyperParameters, pandas_BarentsSea_Standardised, pandas_Area_Masked_BarentsSea)\n",
    "linear_Result.to_csv(\"Results\\\\Linear_Result.csv\")\n",
    "linear_Result"
   ]
  },
  {
   "cell_type": "code",
   "execution_count": null,
   "metadata": {},
   "outputs": [],
   "source": [
    "testStop = pandas_BarentsSea_Standardised.index.get_level_values(\"time\").max()\n",
    "trainStop = testStop - 4 * 48\n",
    "formula = \"sic_log ~ time + sin + cos + sic_log_dt_tm1 + sic_log_dt_tm2 + sic_log_dt_tm3 + temp_dt_tm1 + temp_dt_tm2 + temp_dt_tm3 + ohc_dt_tm1 + ohc_dt_tm2 + ohc_dt_tm3 + sic_log_dt_tm1_N + sic_log_dt_tm1_NE + sic_log_dt_tm1_E + sic_log_dt_tm1_SE + sic_log_dt_tm1_S + sic_log_dt_tm1_SW + sic_log_dt_tm1_W + sic_log_dt_tm1_NW\"\n",
    "linear_Results_2 = predictLeadTimes(pandas_BarentsSea_Standardised, pandas_Area_Masked_BarentsSea, trainStop, testStop, 0.008, 0, formula, 6)\n",
    "linear_Results_2.to_csv(\"Results\\\\Linear_Result_2.csv\")\n",
    "linear_Results_2"
   ]
  },
  {
   "cell_type": "markdown",
   "metadata": {},
   "source": [
    "End of _Jupyter Notebook_."
   ]
  }
 ],
 "metadata": {
  "kernelspec": {
   "display_name": "Python 3",
   "language": "python",
   "name": "python3"
  },
  "language_info": {
   "codemirror_mode": {
    "name": "ipython",
    "version": 3
   },
   "file_extension": ".py",
   "mimetype": "text/x-python",
   "name": "python",
   "nbconvert_exporter": "python",
   "pygments_lexer": "ipython3",
   "version": "3.6.7"
  }
 },
 "nbformat": 4,
 "nbformat_minor": 2
}
